{
 "cells": [
  {
   "cell_type": "code",
   "execution_count": 48,
   "metadata": {},
   "outputs": [
    {
     "name": "stdout",
     "output_type": "stream",
     "text": [
      "      quality\n",
      "0           5\n",
      "1           5\n",
      "2           5\n",
      "3           6\n",
      "4           5\n",
      "...       ...\n",
      "1594        5\n",
      "1595        6\n",
      "1596        6\n",
      "1597        5\n",
      "1598        6\n",
      "\n",
      "[1599 rows x 1 columns]\n"
     ]
    }
   ],
   "source": [
    "import pandas as pd\n",
    "\n",
    "data = pd.read_csv('winequality-red.csv', delimiter=';')\n",
    "\n",
    "df = pd.DataFrame(data, columns=['quality'])\n",
    "print(df)\n",
    "\n"
   ]
  },
  {
   "cell_type": "code",
   "execution_count": 47,
   "metadata": {},
   "outputs": [
    {
     "name": "stdout",
     "output_type": "stream",
     "text": [
      "      quality\n",
      "0           6\n",
      "1           6\n",
      "2           6\n",
      "3           6\n",
      "4           6\n",
      "...       ...\n",
      "4893        6\n",
      "4894        5\n",
      "4895        6\n",
      "4896        7\n",
      "4897        6\n",
      "\n",
      "[4898 rows x 1 columns]\n"
     ]
    }
   ],
   "source": [
    "import pandas as pd\n",
    "\n",
    "data = pd.read_csv('winequality-white.csv', delimiter=';')\n",
    "\n",
    "df = pd.DataFrame(data, columns=['quality'])\n",
    "print(df)"
   ]
  },
  {
   "cell_type": "code",
   "execution_count": 80,
   "metadata": {},
   "outputs": [
    {
     "name": "stdout",
     "output_type": "stream",
     "text": [
      "[6 6 6 ... 6 7 6]\n",
      "Mean quality - white wine:        5.87790935075541\n",
      "Standard deviation - white wine: 0.8855481621683543\n",
      "Minimum quality - white wine:     3\n",
      "Maximum quality - white wine:     9\n",
      "25th percentile - red wine:    5.0\n",
      "Median - red wine:             6.0\n",
      "75th percentile - red wine:    6.0\n"
     ]
    }
   ],
   "source": [
    "import pandas as pd\n",
    "import numpy as np\n",
    "\n",
    "data = pd.read_csv('winequality-white.csv', delimiter=';')\n",
    "\n",
    "quality_white = np.array(data['quality'])\n",
    "print(quality_white)\n",
    "\n",
    "print(\"Mean quality - white wine:       \", quality_white.mean())\n",
    "print(\"Standard deviation - white wine:\", quality_white.std())\n",
    "print(\"Minimum quality - white wine:    \", quality_white .min())\n",
    "print(\"Maximum quality - white wine:    \", quality_white.max())\n",
    "\n",
    "print(\"25th percentile - white wine:   \", np.percentile(quality_white, 25))\n",
    "print(\"Median - white wine:            \", np.median(quality_white))\n",
    "print(\"75th percentile - white wine:   \", np.percentile(quality_white, 75))\n",
    "\n"
   ]
  },
  {
   "cell_type": "code",
   "execution_count": 67,
   "metadata": {},
   "outputs": [
    {
     "name": "stdout",
     "output_type": "stream",
     "text": [
      "[5 5 5 ... 6 5 6]\n",
      "Mean quality - red wine:        5.6360225140712945\n",
      "Standard deviation - red wine: 0.8073168769639513\n",
      "Minimum quality of - red wine:     3\n",
      "Maximum quality of - red wine:     8\n",
      "25th percentile - red wine:    5.0\n",
      "Median - red wine:             6.0\n",
      "75th percentile - red wine:    6.0\n"
     ]
    }
   ],
   "source": [
    "import pandas as pd\n",
    "import numpy as np \n",
    "\n",
    "data = pd.read_csv('winequality-red.csv', delimiter=';')\n",
    "\n",
    "quality_red = np.array(data['quality'])\n",
    "print(quality_red)\n",
    "\n",
    "print(\"Mean quality - red wine:       \", quality_red.mean())\n",
    "print(\"Standard deviation - red wine:\", quality_red.std())\n",
    "print(\"Minimum quality of - red wine:    \", quality_red .min())\n",
    "print(\"Maximum quality of - red wine:    \", quality_red.max())\n",
    "\n",
    "print(\"25th percentile - red wine:   \", np.percentile(quality_red, 25))\n",
    "print(\"Median - red wine:            \", np.median(quality_red))\n",
    "print(\"75th percentile - red wine:   \", np.percentile(quality_red, 75))"
   ]
  },
  {
   "cell_type": "code",
   "execution_count": 78,
   "metadata": {},
   "outputs": [],
   "source": [
    "%matplotlib inline\n",
    "import matplotlib.pyplot as plt\n",
    "import seaborn; seaborn.set() "
   ]
  },
  {
   "cell_type": "code",
   "execution_count": 79,
   "metadata": {},
   "outputs": [
    {
     "ename": "NameError",
     "evalue": "name 'quality_white' is not defined",
     "output_type": "error",
     "traceback": [
      "\u001b[0;31m---------------------------------------------------------------------------\u001b[0m",
      "\u001b[0;31mNameError\u001b[0m                                 Traceback (most recent call last)",
      "Cell \u001b[0;32mIn[79], line 1\u001b[0m\n\u001b[0;32m----> 1\u001b[0m plt\u001b[39m.\u001b[39mhist(quality_white)\n\u001b[1;32m      2\u001b[0m plt\u001b[39m.\u001b[39mtitle(\u001b[39m'\u001b[39m\u001b[39mQuality Distribution of White Whine\u001b[39m\u001b[39m'\u001b[39m)\n\u001b[1;32m      3\u001b[0m plt\u001b[39m.\u001b[39mxlabel(\u001b[39m'\u001b[39m\u001b[39mQuality\u001b[39m\u001b[39m'\u001b[39m)\n",
      "\u001b[0;31mNameError\u001b[0m: name 'quality_white' is not defined"
     ]
    }
   ],
   "source": [
    "plt.hist(quality_white)\n",
    "plt.title('Quality Distribution of White Whine')\n",
    "plt.xlabel('Quality')\n",
    "plt.ylabel('number');"
   ]
  }
 ],
 "metadata": {
  "kernelspec": {
   "display_name": ".venv",
   "language": "python",
   "name": "python3"
  },
  "language_info": {
   "codemirror_mode": {
    "name": "ipython",
    "version": 3
   },
   "file_extension": ".py",
   "mimetype": "text/x-python",
   "name": "python",
   "nbconvert_exporter": "python",
   "pygments_lexer": "ipython3",
   "version": "3.10.1"
  },
  "orig_nbformat": 4,
  "vscode": {
   "interpreter": {
    "hash": "fd824e73b040f63fd7262856786441ff41f1879f1a3f137125fc7c6bec9bf2df"
   }
  }
 },
 "nbformat": 4,
 "nbformat_minor": 2
}
